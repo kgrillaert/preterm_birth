{
 "cells": [
  {
   "cell_type": "code",
   "execution_count": null,
   "metadata": {},
   "outputs": [],
   "source": [
    "#Don't forget to save your work to your local computer and push to GitHub.\n",
    "#File -> Download as -> Notebook\n",
    "#Move file from download folder to local repo clone\n",
    "#git add filename.ipynb\n",
    "#git commit -m \"put a specific and informative message here of what you worked on\"\n",
    "#git push"
   ]
  },
  {
   "cell_type": "markdown",
   "metadata": {},
   "source": [
    "# Importing the Data From All of Us"
   ]
  },
  {
   "cell_type": "markdown",
   "metadata": {},
   "source": [
    "## Importing the Birth data\n",
    "\n",
    "Note that data from *All of Us* is being imported into *Final_Birth_Concept_Set_for_Import* and cleaned there,\n",
    "so the import takes some time (about 2 mins)"
   ]
  },
  {
   "cell_type": "code",
   "execution_count": null,
   "metadata": {},
   "outputs": [],
   "source": [
    "# As needed (i.e. once)\n",
    "!pip install import-ipynb"
   ]
  },
  {
   "cell_type": "code",
   "execution_count": 1,
   "metadata": {},
   "outputs": [
    {
     "name": "stdout",
     "output_type": "stream",
     "text": [
      "importing Jupyter notebook from Final_Birth_Concept_Set_for_Import.ipynb\n"
     ]
    },
    {
     "data": {
      "application/vnd.jupyter.widget-view+json": {
       "model_id": "73457c76658d44d886970568fe5042a1",
       "version_major": 2,
       "version_minor": 0
      },
      "text/plain": [
       "Downloading:   0%|          | 0/390805 [00:00<?, ?rows/s]"
      ]
     },
     "metadata": {},
     "output_type": "display_data"
    },
    {
     "name": "stdout",
     "output_type": "stream",
     "text": [
      "<bound method DataFrame.info of         person_id      standard_concept_name  condition_start_datetime\n",
      "0         1702510  Gestation period, 9 weeks 2020-06-03 06:00:00+00:00\n",
      "1         1912251  Gestation period, 9 weeks 2021-05-14 06:00:00+00:00\n",
      "2         1837105  Gestation period, 9 weeks 2022-03-15 00:00:00+00:00\n",
      "3         5475312  Gestation period, 9 weeks 2019-09-13 00:00:00+00:00\n",
      "4         2691089  Gestation period, 9 weeks 2020-06-04 06:00:00+00:00\n",
      "...           ...                        ...                       ...\n",
      "390800    3162619  Third trimester pregnancy 2016-04-15 14:26:00+00:00\n",
      "390801    3382477  Third trimester pregnancy 2022-06-06 12:43:00+00:00\n",
      "390802    2251361  Third trimester pregnancy 2019-06-07 10:26:00+00:00\n",
      "390803    1777594  Third trimester pregnancy 2019-10-10 14:43:00+00:00\n",
      "390804    1979701  Third trimester pregnancy 2019-09-10 08:48:00+00:00\n",
      "\n",
      "[390805 rows x 3 columns]>\n"
     ]
    },
    {
     "name": "stderr",
     "output_type": "stream",
     "text": [
      "/opt/conda/lib/python3.7/site-packages/pandas/core/indexing.py:1773: SettingWithCopyWarning: \n",
      "A value is trying to be set on a copy of a slice from a DataFrame.\n",
      "Try using .loc[row_indexer,col_indexer] = value instead\n",
      "\n",
      "See the caveats in the documentation: https://pandas.pydata.org/pandas-docs/stable/user_guide/indexing.html#returning-a-view-versus-a-copy\n",
      "  self._setitem_single_column(ilocs[0], value, pi)\n",
      "/opt/conda/lib/python3.7/site-packages/pandas/core/indexing.py:1667: SettingWithCopyWarning: \n",
      "A value is trying to be set on a copy of a slice from a DataFrame.\n",
      "Try using .loc[row_indexer,col_indexer] = value instead\n",
      "\n",
      "See the caveats in the documentation: https://pandas.pydata.org/pandas-docs/stable/user_guide/indexing.html#returning-a-view-versus-a-copy\n",
      "  self.obj[key] = value\n"
     ]
    },
    {
     "name": "stdout",
     "output_type": "stream",
     "text": [
      "<bound method DataFrame.info of         person_id      standard_concept_name  condition_start_datetime  \\\n",
      "0         1702510  Gestation period, 9 weeks 2020-06-03 06:00:00+00:00   \n",
      "1         1912251  Gestation period, 9 weeks 2021-05-14 06:00:00+00:00   \n",
      "2         1837105  Gestation period, 9 weeks 2022-03-15 00:00:00+00:00   \n",
      "3         5475312  Gestation period, 9 weeks 2019-09-13 00:00:00+00:00   \n",
      "4         2691089  Gestation period, 9 weeks 2020-06-04 06:00:00+00:00   \n",
      "...           ...                        ...                       ...   \n",
      "173722    1639604          Single live birth 2010-11-16 05:00:00+00:00   \n",
      "173723    1971142          Single live birth 2008-01-22 05:00:00+00:00   \n",
      "173724    1158661          Single live birth 2015-03-10 20:22:00+00:00   \n",
      "173725    1461185          Single live birth 2013-12-20 16:44:00+00:00   \n",
      "173726    8575543          Single live birth 2014-09-10 05:00:00+00:00   \n",
      "\n",
      "       condition_start_date  \n",
      "0                2020-06-03  \n",
      "1                2021-05-14  \n",
      "2                2022-03-15  \n",
      "3                2019-09-13  \n",
      "4                2020-06-04  \n",
      "...                     ...  \n",
      "173722           2010-11-16  \n",
      "173723           2008-01-22  \n",
      "173724           2015-03-10  \n",
      "173725           2013-12-20  \n",
      "173726           2014-09-10  \n",
      "\n",
      "[173727 rows x 4 columns]>\n",
      "Gestation period, 9 weeks: 39\n",
      "Gestation period, 34 weeks: 5816\n",
      "Gestation period, 19 weeks: 3468\n",
      "Gestation period, 35 weeks: 6198\n",
      "Gestation period, 25 weeks: 2077\n",
      "Gestation period, 38 weeks: 9384\n",
      "Gestation period, 22 weeks: 2541\n",
      "Gestation period, 21 weeks: 2622\n",
      "Gestation period, 23 weeks: 2219\n",
      "Gestation period, 12 weeks: 4600\n",
      "Gestation period, 41 weeks: 1333\n",
      "Gestation period, 26 weeks: 2440\n",
      "Gestation period, 11 weeks: 3704\n",
      "Gestation period, 13 weeks: 2482\n",
      "Gestation period, 18 weeks: 3506\n",
      "Gestation period, 32 weeks: 5062\n",
      "Gestation period, 40 weeks: 5774\n",
      "Gestation period, 42 weeks: 18\n",
      "Gestation period, 33 weeks: 4885\n",
      "Gestation period, 36 weeks: 8688\n",
      "Gestation period, 10 weeks: 2112\n",
      "Gestation period, 27 weeks: 2563\n",
      "Gestation period, 17 weeks: 1822\n",
      "Gestation period, 37 weeks: 9435\n",
      "Gestation period, 14 weeks: 1509\n",
      "Gestation period, 16 weeks: 2068\n",
      "Gestation period, 20 weeks: 4013\n",
      "Gestation period, 15 weeks: 1493\n",
      "Gestation period, 39 weeks: 12126\n",
      "Gestation period, 29 weeks: 2848\n",
      "Gestation period, 24 weeks: 56\n",
      "Gestation period, 31 weeks: 3512\n",
      "Gestation period, 30 weeks: 3415\n",
      "Gestation period, 28 weeks: 3839\n",
      "Gestation period, 8 weeks: 9944\n",
      "Preterm spontaneous labor with preterm delivery: 425\n",
      "Preterm labor in second trimester with preterm delivery in second trimester: 142\n",
      "Preterm labor in third trimester with preterm delivery in third trimester: 1171\n",
      "Preterm labor with preterm delivery: 48\n",
      "Term pregnancy: 3\n",
      "Single live birth: 34327\n",
      "<bound method DataFrame.info of         person_id      standard_concept_name  condition_start_datetime  \\\n",
      "0         1702510  Gestation period, 9 weeks 2020-06-03 06:00:00+00:00   \n",
      "1         1912251  Gestation period, 9 weeks 2021-05-14 06:00:00+00:00   \n",
      "2         1837105  Gestation period, 9 weeks 2022-03-15 00:00:00+00:00   \n",
      "3         5475312  Gestation period, 9 weeks 2019-09-13 00:00:00+00:00   \n",
      "4         2691089  Gestation period, 9 weeks 2020-06-04 06:00:00+00:00   \n",
      "...           ...                        ...                       ...   \n",
      "173722    1639604          Single live birth 2010-11-16 05:00:00+00:00   \n",
      "173723    1971142          Single live birth 2008-01-22 05:00:00+00:00   \n",
      "173724    1158661          Single live birth 2015-03-10 20:22:00+00:00   \n",
      "173725    1461185          Single live birth 2013-12-20 16:44:00+00:00   \n",
      "173726    8575543          Single live birth 2014-09-10 05:00:00+00:00   \n",
      "\n",
      "       condition_start_date conception_date  \n",
      "0                2020-06-03      2020-04-01  \n",
      "1                2021-05-14      2021-03-12  \n",
      "2                2022-03-15      2022-01-11  \n",
      "3                2019-09-13      2019-07-12  \n",
      "4                2020-06-04      2020-04-02  \n",
      "...                     ...             ...  \n",
      "173722           2010-11-16            None  \n",
      "173723           2008-01-22            None  \n",
      "173724           2015-03-10            None  \n",
      "173725           2013-12-20            None  \n",
      "173726           2014-09-10            None  \n",
      "\n",
      "[173727 rows x 5 columns]>\n",
      "Execution time: 90.38361167907715 seconds\n",
      "Range of gestational_age_at_birth: 8.0 to 320.2857142857143\n",
      "Number of gestational ages added: 21533\n",
      "14583 n/a entries were removed from the column gestational age at birth.\n",
      "Number of entries with negative gestational age deleted: 0\n",
      "Number of entries with gestational age greater than 45 weeks deleted: 79\n",
      "Number of entries with gestational age less than 22 weeks deleted 142\n",
      "Number of births that are full term >= 37 weeks: 18309\n",
      "Number of births that are any class of Preterm: 3003\n",
      "Number of births that are Late Preterm >= 32 and < 37 weeks: 2342\n",
      "Number of births that are Very Preterm >= 28 weeks and < 32 weeks: 423\n",
      "Number of births that are Extremely Preterm < 28 weeks: 238\n",
      "Total number of births: 21312\n",
      "Percentage of births that are any class of preterm: 14.090653153153154\n",
      "Number of unique person_ids: 11959\n",
      "The minimum gestational age at birth in this dataset is: 22.0 weeks\n",
      "The max gestational age at birth in this dataset is: 44.142857142857146 weeks\n",
      "21312\n",
      "Number of births before removing duplicates 21312\n",
      "Number of duplicate births removed 0\n",
      "Number of births after removing duplicates 21312\n"
     ]
    },
    {
     "name": "stderr",
     "output_type": "stream",
     "text": [
      "Final_Birth_Concept_Set_for_Import.ipynb:5: SettingWithCopyWarning: \n",
      "A value is trying to be set on a copy of a slice from a DataFrame.\n",
      "Try using .loc[row_indexer,col_indexer] = value instead\n",
      "\n",
      "See the caveats in the documentation: https://pandas.pydata.org/pandas-docs/stable/user_guide/indexing.html#returning-a-view-versus-a-copy\n",
      "  \"execution_count\": 1,\n"
     ]
    },
    {
     "name": "stdout",
     "output_type": "stream",
     "text": [
      "Entries removed: 5711\n",
      "Entries kept: 15601\n",
      "Statistics for Term:\n",
      "          person_id  gestational_age_at_birth   birth_order\n",
      "count  1.343400e+04              13434.000000  13434.000000\n",
      "mean   2.958510e+06                 38.841638      1.276165\n",
      "std    2.116125e+06                  1.067879      0.530288\n",
      "min    1.000131e+06                 37.000000      1.000000\n",
      "25%    1.565325e+06                 38.000000      1.000000\n",
      "50%    2.200748e+06                 39.000000      1.000000\n",
      "75%    3.260879e+06                 40.000000      1.000000\n",
      "max    9.998770e+06                 44.000000      5.000000\n",
      "\n",
      "Statistics for Preterm:\n",
      "          person_id  gestational_age_at_birth  birth_order\n",
      "count  2.167000e+03               2167.000000  2167.000000\n",
      "mean   2.857171e+06                 33.389149     1.228426\n",
      "std    2.002075e+06                  3.381602     0.488997\n",
      "min    1.001034e+06                 22.000000     1.000000\n",
      "25%    1.559583e+06                 32.000000     1.000000\n",
      "50%    2.174813e+06                 35.000000     1.000000\n",
      "75%    3.193456e+06                 36.000000     1.000000\n",
      "max    9.989602e+06                 36.857143     4.000000\n",
      "\n"
     ]
    },
    {
     "data": {
      "image/png": "[encoded data removed]",
      "text/plain": [
       "<Figure size 432x288 with 1 Axes>"
      ]
     },
     "metadata": {},
     "output_type": "display_data"
    },
    {
     "data": {
      "image/png": "[encoded data removed]",
      "text/plain": [
       "<Figure size 432x288 with 1 Axes>"
      ]
     },
     "metadata": {},
     "output_type": "display_data"
    },
    {
     "data": {
      "image/png": "[encoded data removed]",
      "text/plain": [
       "<Figure size 432x288 with 1 Axes>"
      ]
     },
     "metadata": {},
     "output_type": "display_data"
    }
   ],
   "source": [
    "import import_ipynb\n",
    "from Final_Birth_Concept_Set_for_Import import *"
   ]
  },
  {
   "cell_type": "markdown",
   "metadata": {},
   "source": [
    "## Importing the *Person* data"
   ]
  },
  {
   "cell_type": "code",
   "execution_count": 2,
   "metadata": {
    "code_folding": [
     4,
     5,
     16,
     18,
     22,
     24,
     88
    ]
   },
   "outputs": [
    {
     "data": {
      "application/vnd.jupyter.widget-view+json": {
       "model_id": "79f96fe68906461399191a6929653f15",
       "version_major": 2,
       "version_minor": 0
      },
      "text/plain": [
       "Downloading:   0%|          | 0/17524 [00:00<?, ?rows/s]"
      ]
     },
     "metadata": {},
     "output_type": "display_data"
    }
   ],
   "source": [
    "import pandas\n",
    "import os\n",
    "\n",
    "# This query represents dataset \"AS_KG_Dataset\" for domain \"person\" and was generated for All of Us Controlled Tier Dataset v7\n",
    "dataset_30352193_person_sql = \"\"\"\n",
    "    SELECT\n",
    "        person.person_id,\n",
    "        person.gender_concept_id,\n",
    "        p_gender_concept.concept_name as gender,\n",
    "        person.birth_datetime as date_of_birth,\n",
    "        person.race_concept_id,\n",
    "        p_race_concept.concept_name as race,\n",
    "        person.ethnicity_concept_id,\n",
    "        p_ethnicity_concept.concept_name as ethnicity,\n",
    "        person.sex_at_birth_concept_id,\n",
    "        p_sex_at_birth_concept.concept_name as sex_at_birth \n",
    "    FROM\n",
    "        `\"\"\" + os.environ[\"WORKSPACE_CDR\"] + \"\"\".person` person \n",
    "    LEFT JOIN\n",
    "        `\"\"\" + os.environ[\"WORKSPACE_CDR\"] + \"\"\".concept` p_gender_concept \n",
    "            ON person.gender_concept_id = p_gender_concept.concept_id \n",
    "    LEFT JOIN\n",
    "        `\"\"\" + os.environ[\"WORKSPACE_CDR\"] + \"\"\".concept` p_race_concept \n",
    "            ON person.race_concept_id = p_race_concept.concept_id \n",
    "    LEFT JOIN\n",
    "        `\"\"\" + os.environ[\"WORKSPACE_CDR\"] + \"\"\".concept` p_ethnicity_concept \n",
    "            ON person.ethnicity_concept_id = p_ethnicity_concept.concept_id \n",
    "    LEFT JOIN\n",
    "        `\"\"\" + os.environ[\"WORKSPACE_CDR\"] + \"\"\".concept` p_sex_at_birth_concept \n",
    "            ON person.sex_at_birth_concept_id = p_sex_at_birth_concept.concept_id  \n",
    "    WHERE\n",
    "        person.PERSON_ID IN (\n",
    "            SELECT\n",
    "                distinct person_id  \n",
    "            FROM\n",
    "                `\"\"\" + os.environ[\"WORKSPACE_CDR\"] + \"\"\".cb_search_person` cb_search_person  \n",
    "            WHERE\n",
    "                cb_search_person.person_id IN (\n",
    "                    SELECT\n",
    "                        criteria.person_id \n",
    "                    FROM\n",
    "                        (SELECT\n",
    "                            DISTINCT person_id,\n",
    "                            entry_date,\n",
    "                            concept_id \n",
    "                        FROM\n",
    "                            `\"\"\" + os.environ[\"WORKSPACE_CDR\"] + \"\"\".cb_search_all_events` \n",
    "                        WHERE\n",
    "                            (\n",
    "                                concept_id IN (\n",
    "                                    SELECT\n",
    "                                        DISTINCT c.concept_id \n",
    "                                    FROM\n",
    "                                        `\"\"\" + os.environ[\"WORKSPACE_CDR\"] + \"\"\".cb_criteria` c \n",
    "                                    JOIN\n",
    "                                        (\n",
    "                                            select\n",
    "                                                cast(cr.id as string) as id \n",
    "                                            FROM\n",
    "                                                `\"\"\" + os.environ[\"WORKSPACE_CDR\"] + \"\"\".cb_criteria` cr \n",
    "                                            WHERE\n",
    "                                                concept_id IN (36712702, 45757176, 4014295) \n",
    "                                                AND full_text LIKE '%_rank1]%'\n",
    "                                        ) a \n",
    "                                            ON (\n",
    "                                                c.path LIKE CONCAT('%.',\n",
    "                                            a.id,\n",
    "                                            '.%') \n",
    "                                            OR c.path LIKE CONCAT('%.',\n",
    "                                            a.id) \n",
    "                                            OR c.path LIKE CONCAT(a.id,\n",
    "                                            '.%') \n",
    "                                            OR c.path = a.id) \n",
    "                                        WHERE\n",
    "                                            is_standard = 1 \n",
    "                                            AND is_selectable = 1\n",
    "                                        ) \n",
    "                                        AND is_standard = 1 \n",
    "                                )\n",
    "                            ) criteria \n",
    "                        ) )  \n",
    "                    AND (person.PERSON_ID IN (SELECT\n",
    "                        DISTINCT person_id  \n",
    "                    FROM\n",
    "                        `\"\"\" + os.environ[\"WORKSPACE_CDR\"] + \"\"\".cb_search_person` \n",
    "                    WHERE\n",
    "                        has_ehr_data = 1))\"\"\"\n",
    "\n",
    "dataset_30352193_person_df = pandas.read_gbq(\n",
    "    dataset_30352193_person_sql,\n",
    "    dialect=\"standard\",\n",
    "    use_bqstorage_api=(\"BIGQUERY_STORAGE_API_ENABLED\" in os.environ),\n",
    "    progress_bar_type=\"tqdm_notebook\")\n",
    "\n",
    "#dataset_30352193_person_df.head(5)"
   ]
  },
  {
   "cell_type": "markdown",
   "metadata": {},
   "source": [
    "## Importing the *Zip Code* data"
   ]
  },
  {
   "cell_type": "code",
   "execution_count": 3,
   "metadata": {
    "code_folding": [
     4,
     79
    ]
   },
   "outputs": [
    {
     "data": {
      "application/vnd.jupyter.widget-view+json": {
       "model_id": "651d74f607d74a80a8cf21709270a4b4",
       "version_major": 2,
       "version_minor": 0
      },
      "text/plain": [
       "Downloading:   0%|          | 0/17517 [00:00<?, ?rows/s]"
      ]
     },
     "metadata": {},
     "output_type": "display_data"
    }
   ],
   "source": [
    "import pandas\n",
    "import os\n",
    "\n",
    "# This query represents dataset \"AS_KG_Dataset\" for domain \"zip_code_socioeconomic\" and was generated for All of Us Controlled Tier Dataset v7\n",
    "dataset_30352193_zip_code_socioeconomic_sql = \"\"\"\n",
    "    SELECT\n",
    "        observation.person_id,\n",
    "        observation.observation_datetime,\n",
    "        zip_code.zip3_as_string as zip_code,\n",
    "        zip_code.fraction_assisted_income as assisted_income,\n",
    "        zip_code.fraction_high_school_edu as high_school_education,\n",
    "        zip_code.median_income,\n",
    "        zip_code.fraction_no_health_ins as no_health_insurance,\n",
    "        zip_code.fraction_poverty as poverty,\n",
    "        zip_code.fraction_vacant_housing as vacant_housing,\n",
    "        zip_code.deprivation_index,\n",
    "        zip_code.acs as american_community_survey_year \n",
    "    FROM\n",
    "        `\"\"\" + os.environ[\"WORKSPACE_CDR\"] + \"\"\".zip3_ses_map` zip_code \n",
    "    JOIN\n",
    "        `\"\"\" + os.environ[\"WORKSPACE_CDR\"] + \"\"\".observation` observation \n",
    "            ON CAST(SUBSTR(observation.value_as_string,\n",
    "        0,\n",
    "        STRPOS(observation.value_as_string,\n",
    "        '*') - 1) AS INT64) = zip_code.zip3  \n",
    "    WHERE\n",
    "        observation.PERSON_ID IN (\n",
    "            SELECT\n",
    "                distinct person_id  \n",
    "            FROM\n",
    "                `\"\"\" + os.environ[\"WORKSPACE_CDR\"] + \"\"\".cb_search_person` cb_search_person  \n",
    "            WHERE\n",
    "                cb_search_person.person_id IN (\n",
    "                    SELECT\n",
    "                        criteria.person_id \n",
    "                    FROM\n",
    "                        (SELECT\n",
    "                            DISTINCT person_id,\n",
    "                            entry_date,\n",
    "                            concept_id \n",
    "                        FROM\n",
    "                            `\"\"\" + os.environ[\"WORKSPACE_CDR\"] + \"\"\".cb_search_all_events` \n",
    "                        WHERE\n",
    "                            (\n",
    "                                concept_id IN (\n",
    "                                    SELECT\n",
    "                                        DISTINCT c.concept_id \n",
    "                                    FROM\n",
    "                                        `\"\"\" + os.environ[\"WORKSPACE_CDR\"] + \"\"\".cb_criteria` c \n",
    "                                    JOIN\n",
    "                                        (\n",
    "                                            select\n",
    "                                                cast(cr.id as string) as id \n",
    "                                            FROM\n",
    "                                                `\"\"\" + os.environ[\"WORKSPACE_CDR\"] + \"\"\".cb_criteria` cr \n",
    "                                            WHERE\n",
    "                                                concept_id IN (36712702, 45757176, 4014295) \n",
    "                                                AND full_text LIKE '%_rank1]%'\n",
    "                                        ) a \n",
    "                                            ON (\n",
    "                                                c.path LIKE CONCAT('%.',\n",
    "                                            a.id,\n",
    "                                            '.%') \n",
    "                                            OR c.path LIKE CONCAT('%.',\n",
    "                                            a.id) \n",
    "                                            OR c.path LIKE CONCAT(a.id,\n",
    "                                            '.%') \n",
    "                                            OR c.path = a.id) \n",
    "                                        WHERE\n",
    "                                            is_standard = 1 \n",
    "                                            AND is_selectable = 1\n",
    "                                        ) \n",
    "                                        AND is_standard = 1 \n",
    "                                )\n",
    "                            ) criteria \n",
    "                        ) ) \n",
    "                    AND observation_source_concept_id = 1585250 \n",
    "                    AND observation.value_as_string NOT LIKE 'Res%'\"\"\"\n",
    "\n",
    "dataset_30352193_zip_code_socioeconomic_df = pandas.read_gbq(\n",
    "    dataset_30352193_zip_code_socioeconomic_sql,\n",
    "    dialect=\"standard\",\n",
    "    use_bqstorage_api=(\"BIGQUERY_STORAGE_API_ENABLED\" in os.environ),\n",
    "    progress_bar_type=\"tqdm_notebook\")\n",
    "\n",
    "#dataset_30352193_zip_code_socioeconomic_df.head(5)"
   ]
  },
  {
   "cell_type": "markdown",
   "metadata": {},
   "source": [
    "# Combining each data frame into a single data frame"
   ]
  },
  {
   "cell_type": "markdown",
   "metadata": {},
   "source": [
    "## Importing needed packages"
   ]
  },
  {
   "cell_type": "code",
   "execution_count": 4,
   "metadata": {
    "code_folding": []
   },
   "outputs": [],
   "source": [
    "import pandas as pd"
   ]
  },
  {
   "cell_type": "markdown",
   "metadata": {},
   "source": [
    "## Renaming individual data frames and dropping columns we don't need"
   ]
  },
  {
   "cell_type": "code",
   "execution_count": 5,
   "metadata": {
    "code_folding": []
   },
   "outputs": [],
   "source": [
    "# condition_df\n",
    "\n",
    "condition_df = final_birth_data\n",
    "\n",
    "\n",
    "\n",
    "# person_df\n",
    "\n",
    "person_df_drop_columns = ['gender_concept_id', 'race_concept_id', 'ethnicity_concept_id', 'sex_at_birth_concept_id']\n",
    "\n",
    "person_df = dataset_30352193_person_df.drop(columns=person_df_drop_columns)\n",
    "\n",
    "\n",
    "# zip_df\n",
    "\n",
    "# note this wikipedia list of zip_code prefixes (i.e. first 3 digits):\n",
    "# https://en.wikipedia.org/wiki/List_of_ZIP_Code_prefixes\n",
    "\n",
    "zip_df = dataset_30352193_zip_code_socioeconomic_df"
   ]
  },
  {
   "cell_type": "markdown",
   "metadata": {},
   "source": [
    "## Finding common values of *person_id* and restricting data frames to rows with common values"
   ]
  },
  {
   "cell_type": "code",
   "execution_count": 6,
   "metadata": {},
   "outputs": [],
   "source": [
    "# create a dictionary of values of person_id and multiplicities in each data frame\n",
    "\n",
    "## start by creating sets of unique ids\n",
    "\n",
    "unique_ids_condition = list(condition_df.person_id.unique())\n",
    "unique_ids_person = list(person_df.person_id.unique())\n",
    "unique_ids_zip = list(zip_df.person_id.unique())"
   ]
  },
  {
   "cell_type": "code",
   "execution_count": 7,
   "metadata": {},
   "outputs": [],
   "source": [
    "## create a set of values of person_id that occur in each data frame\n",
    "## we then sort common_ids in ascending order\n",
    "\n",
    "## since we only have four data frames, easy to construct full hierarchy, if we want\n",
    "\n",
    "common_ids = []\n",
    "\n",
    "for pid in unique_ids_condition:\n",
    "    if (pid in unique_ids_person) and (pid in unique_ids_zip):\n",
    "        common_ids.append(pid)\n",
    "\n",
    "common_ids.sort()"
   ]
  },
  {
   "cell_type": "code",
   "execution_count": 8,
   "metadata": {},
   "outputs": [],
   "source": [
    "## restrict data frames to rows with personal_id values in common_ids\n",
    "## Also, we sort by person_id\n",
    "\n",
    "## For restricted condition, we primarily sort by person_id, but\n",
    "## for each value of person_id, we then sort by birth order\n",
    "\n",
    "restricted_condition = condition_df[condition_df[\"person_id\"].isin(common_ids)].copy().sort_values(by=[\"person_id\", \"birth_order\"])\n",
    "restricted_person = person_df[person_df[\"person_id\"].isin(common_ids)].copy().sort_values(by=[\"person_id\"])\n",
    "restricted_zip = zip_df[zip_df[\"person_id\"].isin(common_ids)].copy().sort_values(by=[\"person_id\"])"
   ]
  },
  {
   "cell_type": "markdown",
   "metadata": {},
   "source": [
    "## Merging restricted_person and restricted_zip"
   ]
  },
  {
   "cell_type": "code",
   "execution_count": 9,
   "metadata": {},
   "outputs": [],
   "source": [
    "## restricted_condition, restricted_person, and restricted_zip all have the same values of person_id occuring in them\n",
    "## each value of person_id occurs only once in restricted_person and restricted_zip\n",
    "## we start by simply merging restricted_person and restricted_zip along person_id\n",
    "\n",
    "combined_df = pd.merge(restricted_person, restricted_zip, on='person_id')\n",
    "\n",
    "## next, we rename the columns to identify which data frame they originally came from\n",
    "\n",
    "person_zip_col_dict = {}\n",
    "\n",
    "for col in restricted_person.columns:\n",
    "    if col != 'person_id':\n",
    "        person_zip_col_dict[col] = col+\"_person\"\n",
    "\n",
    "for col in restricted_zip.columns:\n",
    "    if col != 'person_id':\n",
    "        person_zip_col_dict[col] = col+\"_zip\"\n",
    "\n",
    "combined_df = combined_df.rename(columns=person_zip_col_dict)"
   ]
  },
  {
   "cell_type": "markdown",
   "metadata": {},
   "source": [
    "## Adding the *condition* data"
   ]
  },
  {
   "cell_type": "markdown",
   "metadata": {},
   "source": [
    "### We start by splitting up *restricted_condition* by *birth_order*"
   ]
  },
  {
   "cell_type": "code",
   "execution_count": 10,
   "metadata": {},
   "outputs": [],
   "source": [
    "## Note that as of 11 Nov 2023, we see\n",
    "## Everyone has a first birth\n",
    "## 3127 out of 11952 have a second birth\n",
    "## 467 out of 11952 have a third birth\n",
    "## For run time concerns, we only include first and second births\n",
    "\n",
    "first_birth = restricted_condition[restricted_condition['birth_order'] == 1].copy().sort_values(by=[\"person_id\"])\n",
    "second_birth = restricted_condition[restricted_condition['birth_order'] == 2].copy().sort_values(by=[\"person_id\"])\n",
    "#third_birth = restricted_condition[restricted_condition['birth_order'] == 3].copy().sort_values(by=[\"person_id\"])\n",
    "#fourth_birth = restricted_condition[restricted_condition['birth_order'] == 4].copy().sort_values(by=[\"person_id\"])\n",
    "#fifth_birth = restricted_condition[restricted_condition['birth_order'] == 5].copy().sort_values(by=[\"person_id\"])"
   ]
  },
  {
   "cell_type": "markdown",
   "metadata": {},
   "source": [
    "### Next, we fill out *second_birth* so there is a row for every value of *person_id*"
   ]
  },
  {
   "cell_type": "code",
   "execution_count": 11,
   "metadata": {},
   "outputs": [],
   "source": [
    "## We now reset the indexing on second_birth to easily add our extra rows\n",
    "\n",
    "second_birth.reset_index(drop=True, inplace=True)\n",
    "\n",
    "last_index = second_birth.index.max()\n",
    "\n",
    "true_second_birthers = second_birth.person_id.tolist()\n",
    "\n",
    "for pid in common_ids:\n",
    "    if pid not in true_second_birthers:\n",
    "        last_index += 1\n",
    "        second_birth.loc[last_index] = [pid, None, None, None, 2]\n",
    "\n",
    "second_birth = second_birth.sort_values(by=[\"person_id\"])"
   ]
  },
  {
   "cell_type": "markdown",
   "metadata": {},
   "source": [
    "### We update the column names in *first_birth* and *second_birth* before merging and drop *birth_order*"
   ]
  },
  {
   "cell_type": "code",
   "execution_count": 12,
   "metadata": {},
   "outputs": [],
   "source": [
    "first_birth_dict = {}\n",
    "\n",
    "for col in first_birth.columns:\n",
    "    if col != 'person_id':\n",
    "        first_birth_dict[col] = \"first_\"+col\n",
    "        \n",
    "second_birth_dict = {}\n",
    "\n",
    "for col in second_birth.columns:\n",
    "    if col != 'person_id':\n",
    "        second_birth_dict[col] = \"second_\"+col\n",
    "\n",
    "first_birth = first_birth.rename(columns=first_birth_dict)\n",
    "second_birth = second_birth.rename(columns=second_birth_dict)\n",
    "\n",
    "first_birth = first_birth.drop(columns=['first_birth_order'])\n",
    "second_birth = second_birth.drop(columns=['second_birth_order'])"
   ]
  },
  {
   "cell_type": "markdown",
   "metadata": {},
   "source": [
    "### Finally, we merge *first_birth* and *second_birth* with *combined_df* along *person_id*"
   ]
  },
  {
   "cell_type": "code",
   "execution_count": 13,
   "metadata": {},
   "outputs": [],
   "source": [
    "combined_df = pd.merge(combined_df, first_birth, on='person_id')\n",
    "\n",
    "combined_df = pd.merge(combined_df, second_birth, on='person_id')"
   ]
  },
  {
   "cell_type": "code",
   "execution_count": 14,
   "metadata": {},
   "outputs": [
    {
     "data": {
      "text/html": [
       "<div>\n",
       "<style scoped>\n",
       "    .dataframe tbody tr th:only-of-type {\n",
       "        vertical-align: middle;\n",
       "    }\n",
       "\n",
       "    .dataframe tbody tr th {\n",
       "        vertical-align: top;\n",
       "    }\n",
       "\n",
       "    .dataframe thead th {\n",
       "        text-align: right;\n",
       "    }\n",
       "</style>\n",
       "<table border=\"1\" class=\"dataframe\">\n",
       "  <thead>\n",
       "    <tr style=\"text-align: right;\">\n",
       "      <th></th>\n",
       "      <th>person_id</th>\n",
       "      <th>gender_person</th>\n",
       "      <th>date_of_birth_person</th>\n",
       "      <th>race_person</th>\n",
       "      <th>ethnicity_person</th>\n",
       "      <th>sex_at_birth_person</th>\n",
       "      <th>observation_datetime_zip</th>\n",
       "      <th>zip_code_zip</th>\n",
       "      <th>assisted_income_zip</th>\n",
       "      <th>high_school_education_zip</th>\n",
       "      <th>median_income_zip</th>\n",
       "      <th>no_health_insurance_zip</th>\n",
       "      <th>poverty_zip</th>\n",
       "      <th>vacant_housing_zip</th>\n",
       "      <th>deprivation_index_zip</th>\n",
       "      <th>american_community_survey_year_zip</th>\n",
       "      <th>first_condition_start_date</th>\n",
       "      <th>first_birth_class</th>\n",
       "      <th>first_gestational_age_at_birth</th>\n",
       "      <th>second_condition_start_date</th>\n",
       "      <th>second_birth_class</th>\n",
       "      <th>second_gestational_age_at_birth</th>\n",
       "    </tr>\n",
       "  </thead>\n",
       "  <tbody>\n",
       "    <tr>\n",
       "      <th>0</th>\n",
       "      <td>1000131</td>\n",
       "      <td>Not man only, not woman only, prefer not to an...</td>\n",
       "      <td>2002-06-15 00:00:00+00:00</td>\n",
       "      <td>White</td>\n",
       "      <td>Not Hispanic or Latino</td>\n",
       "      <td>Female</td>\n",
       "      <td>2021-09-09 17:18:12+00:00</td>\n",
       "      <td>853**</td>\n",
       "      <td>13.019775</td>\n",
       "      <td>85.134547</td>\n",
       "      <td>61580.823283</td>\n",
       "      <td>10.762228</td>\n",
       "      <td>13.981854</td>\n",
       "      <td>12.360850</td>\n",
       "      <td>0.331276</td>\n",
       "      <td>2017</td>\n",
       "      <td>2021-09-22</td>\n",
       "      <td>Term</td>\n",
       "      <td>39.0</td>\n",
       "      <td>NaT</td>\n",
       "      <td>NaN</td>\n",
       "      <td>NaN</td>\n",
       "    </tr>\n",
       "    <tr>\n",
       "      <th>1</th>\n",
       "      <td>1000195</td>\n",
       "      <td>Female</td>\n",
       "      <td>1982-06-15 00:00:00+00:00</td>\n",
       "      <td>Black or African American</td>\n",
       "      <td>Not Hispanic or Latino</td>\n",
       "      <td>Female</td>\n",
       "      <td>2019-04-15 19:33:14+00:00</td>\n",
       "      <td>104**</td>\n",
       "      <td>38.279736</td>\n",
       "      <td>70.896923</td>\n",
       "      <td>39407.415829</td>\n",
       "      <td>11.049983</td>\n",
       "      <td>29.653439</td>\n",
       "      <td>5.505385</td>\n",
       "      <td>0.485979</td>\n",
       "      <td>2017</td>\n",
       "      <td>2021-08-10</td>\n",
       "      <td>Term</td>\n",
       "      <td>40.0</td>\n",
       "      <td>NaT</td>\n",
       "      <td>NaN</td>\n",
       "      <td>NaN</td>\n",
       "    </tr>\n",
       "    <tr>\n",
       "      <th>2</th>\n",
       "      <td>1000724</td>\n",
       "      <td>Female</td>\n",
       "      <td>1999-06-15 00:00:00+00:00</td>\n",
       "      <td>White</td>\n",
       "      <td>Not Hispanic or Latino</td>\n",
       "      <td>Female</td>\n",
       "      <td>2017-09-19 13:40:32+00:00</td>\n",
       "      <td>154**</td>\n",
       "      <td>20.910346</td>\n",
       "      <td>88.333925</td>\n",
       "      <td>42632.000716</td>\n",
       "      <td>6.287592</td>\n",
       "      <td>18.639903</td>\n",
       "      <td>15.527784</td>\n",
       "      <td>0.360499</td>\n",
       "      <td>2017</td>\n",
       "      <td>2019-08-06</td>\n",
       "      <td>Term</td>\n",
       "      <td>40.0</td>\n",
       "      <td>NaT</td>\n",
       "      <td>NaN</td>\n",
       "      <td>NaN</td>\n",
       "    </tr>\n",
       "    <tr>\n",
       "      <th>3</th>\n",
       "      <td>1001000</td>\n",
       "      <td>Female</td>\n",
       "      <td>1999-06-15 00:00:00+00:00</td>\n",
       "      <td>Black or African American</td>\n",
       "      <td>Hispanic or Latino</td>\n",
       "      <td>Female</td>\n",
       "      <td>2020-02-13 18:47:27+00:00</td>\n",
       "      <td>927**</td>\n",
       "      <td>15.587510</td>\n",
       "      <td>66.084673</td>\n",
       "      <td>69333.203649</td>\n",
       "      <td>16.807387</td>\n",
       "      <td>16.542301</td>\n",
       "      <td>2.669649</td>\n",
       "      <td>0.397667</td>\n",
       "      <td>2017</td>\n",
       "      <td>2018-11-09</td>\n",
       "      <td>Term</td>\n",
       "      <td>40.0</td>\n",
       "      <td>NaT</td>\n",
       "      <td>NaN</td>\n",
       "      <td>NaN</td>\n",
       "    </tr>\n",
       "    <tr>\n",
       "      <th>4</th>\n",
       "      <td>1001034</td>\n",
       "      <td>Female</td>\n",
       "      <td>1989-06-15 00:00:00+00:00</td>\n",
       "      <td>None of these</td>\n",
       "      <td>What Race Ethnicity: Race Ethnicity None Of These</td>\n",
       "      <td>Female</td>\n",
       "      <td>2019-05-17 18:48:39+00:00</td>\n",
       "      <td>850**</td>\n",
       "      <td>18.509215</td>\n",
       "      <td>78.387333</td>\n",
       "      <td>54223.044605</td>\n",
       "      <td>17.148201</td>\n",
       "      <td>22.064159</td>\n",
       "      <td>10.368943</td>\n",
       "      <td>0.409916</td>\n",
       "      <td>2017</td>\n",
       "      <td>2017-06-28</td>\n",
       "      <td>Term</td>\n",
       "      <td>39.0</td>\n",
       "      <td>2019-06-29</td>\n",
       "      <td>Preterm</td>\n",
       "      <td>29.0</td>\n",
       "    </tr>\n",
       "  </tbody>\n",
       "</table>\n",
       "</div>"
      ],
      "text/plain": [
       "  person_id                                      gender_person  \\\n",
       "0   1000131  Not man only, not woman only, prefer not to an...   \n",
       "1   1000195                                             Female   \n",
       "2   1000724                                             Female   \n",
       "3   1001000                                             Female   \n",
       "4   1001034                                             Female   \n",
       "\n",
       "       date_of_birth_person                race_person  \\\n",
       "0 2002-06-15 00:00:00+00:00                      White   \n",
       "1 1982-06-15 00:00:00+00:00  Black or African American   \n",
       "2 1999-06-15 00:00:00+00:00                      White   \n",
       "3 1999-06-15 00:00:00+00:00  Black or African American   \n",
       "4 1989-06-15 00:00:00+00:00              None of these   \n",
       "\n",
       "                                    ethnicity_person sex_at_birth_person  \\\n",
       "0                             Not Hispanic or Latino              Female   \n",
       "1                             Not Hispanic or Latino              Female   \n",
       "2                             Not Hispanic or Latino              Female   \n",
       "3                                 Hispanic or Latino              Female   \n",
       "4  What Race Ethnicity: Race Ethnicity None Of These              Female   \n",
       "\n",
       "   observation_datetime_zip zip_code_zip  assisted_income_zip  \\\n",
       "0 2021-09-09 17:18:12+00:00        853**            13.019775   \n",
       "1 2019-04-15 19:33:14+00:00        104**            38.279736   \n",
       "2 2017-09-19 13:40:32+00:00        154**            20.910346   \n",
       "3 2020-02-13 18:47:27+00:00        927**            15.587510   \n",
       "4 2019-05-17 18:48:39+00:00        850**            18.509215   \n",
       "\n",
       "   high_school_education_zip  median_income_zip  no_health_insurance_zip  \\\n",
       "0                  85.134547       61580.823283                10.762228   \n",
       "1                  70.896923       39407.415829                11.049983   \n",
       "2                  88.333925       42632.000716                 6.287592   \n",
       "3                  66.084673       69333.203649                16.807387   \n",
       "4                  78.387333       54223.044605                17.148201   \n",
       "\n",
       "   poverty_zip  vacant_housing_zip  deprivation_index_zip  \\\n",
       "0    13.981854           12.360850               0.331276   \n",
       "1    29.653439            5.505385               0.485979   \n",
       "2    18.639903           15.527784               0.360499   \n",
       "3    16.542301            2.669649               0.397667   \n",
       "4    22.064159           10.368943               0.409916   \n",
       "\n",
       "   american_community_survey_year_zip first_condition_start_date  \\\n",
       "0                                2017                 2021-09-22   \n",
       "1                                2017                 2021-08-10   \n",
       "2                                2017                 2019-08-06   \n",
       "3                                2017                 2018-11-09   \n",
       "4                                2017                 2017-06-28   \n",
       "\n",
       "  first_birth_class  first_gestational_age_at_birth  \\\n",
       "0              Term                            39.0   \n",
       "1              Term                            40.0   \n",
       "2              Term                            40.0   \n",
       "3              Term                            40.0   \n",
       "4              Term                            39.0   \n",
       "\n",
       "  second_condition_start_date second_birth_class  \\\n",
       "0                         NaT                NaN   \n",
       "1                         NaT                NaN   \n",
       "2                         NaT                NaN   \n",
       "3                         NaT                NaN   \n",
       "4                  2019-06-29            Preterm   \n",
       "\n",
       "   second_gestational_age_at_birth  \n",
       "0                              NaN  \n",
       "1                              NaN  \n",
       "2                              NaN  \n",
       "3                              NaN  \n",
       "4                             29.0  "
      ]
     },
     "execution_count": 14,
     "metadata": {},
     "output_type": "execute_result"
    }
   ],
   "source": [
    "pd.options.display.max_columns = None\n",
    "combined_df.head()"
   ]
  },
  {
   "cell_type": "markdown",
   "metadata": {},
   "source": [
    "# Data Exploration and Visualizations"
   ]
  },
  {
   "cell_type": "markdown",
   "metadata": {},
   "source": [
    "## Importing packages for data exploration and visualizations"
   ]
  },
  {
   "cell_type": "code",
   "execution_count": null,
   "metadata": {},
   "outputs": [],
   "source": [
    "# Import libraries\n",
    "import seaborn as sns\n",
    "import matplotlib.pyplot as plt"
   ]
  },
  {
   "cell_type": "markdown",
   "metadata": {},
   "source": [
    "## Value counts and plots"
   ]
  },
  {
   "cell_type": "code",
   "execution_count": null,
   "metadata": {
    "scrolled": true
   },
   "outputs": [],
   "source": [
    "# Show all data in a pairplot\n",
    "sns.pairplot(combined_df)\n",
    "plt.show()"
   ]
  },
  {
   "cell_type": "code",
   "execution_count": null,
   "metadata": {},
   "outputs": [],
   "source": [
    "# Value count for ethnicity\n",
    "\n",
    "combined_df.value_counts(\"ethnicity_df3\")"
   ]
  },
  {
   "cell_type": "code",
   "execution_count": null,
   "metadata": {},
   "outputs": [],
   "source": [
    "# Value count for race\n",
    "combined_df.value_counts(\"race_df3\")"
   ]
  },
  {
   "cell_type": "code",
   "execution_count": null,
   "metadata": {},
   "outputs": [],
   "source": [
    "# Income\n",
    "plt.figure(figsize=(6,4))\n",
    "combined_df.median_income_df4.hist()\n",
    "plt.xlabel('Median Income ($)')\n",
    "plt.ylabel('Count')"
   ]
  },
  {
   "cell_type": "code",
   "execution_count": null,
   "metadata": {},
   "outputs": [],
   "source": [
    "# Swarm plot for race & median income\n",
    "plt.figure(figsize=(14,6))\n",
    "sns.swarmplot(data = combined_df,\n",
    "             x = combined_df.race_df3,\n",
    "             y = combined_df.median_income_df4)\n",
    "plt.xlabel(\"Race\")\n",
    "plt.ylabel(\"Median Income ($)\")\n",
    "plt.xticks(rotation=90)\n",
    "plt.show()"
   ]
  },
  {
   "cell_type": "code",
   "execution_count": null,
   "metadata": {},
   "outputs": [],
   "source": [
    "# Swarm plot for race & median income\n",
    "plt.figure(figsize=(14,6))\n",
    "sns.swarmplot(data = combined_df,\n",
    "             x = combined_df.ethnicity_df3,\n",
    "             y = combined_df.median_income_df4)\n",
    "plt.xlabel(\"Ethnicity\")\n",
    "plt.ylabel(\"Median Income ($)\")\n",
    "plt.xticks(rotation=90)\n",
    "plt.show()"
   ]
  },
  {
   "cell_type": "code",
   "execution_count": null,
   "metadata": {},
   "outputs": [],
   "source": [
    "# Education\n",
    "plt.figure(figsize=(6,4))\n",
    "combined_df.high_school_education_df4.hist()\n",
    "plt.xlabel('% of people in zipcode who completed high school')\n",
    "plt.ylabel('Count')"
   ]
  },
  {
   "cell_type": "code",
   "execution_count": null,
   "metadata": {},
   "outputs": [],
   "source": [
    "# Swarm plot for race & education\n",
    "plt.figure(figsize=(14,6))\n",
    "sns.swarmplot(data = combined_df,\n",
    "             x = combined_df.race_df3,\n",
    "             y = combined_df.high_school_education_df4)\n",
    "plt.xlabel(\"Race\")\n",
    "plt.ylabel(\"% of people in zipcode who completed high school\")\n",
    "plt.xticks(rotation=90)\n",
    "plt.show()"
   ]
  },
  {
   "cell_type": "code",
   "execution_count": null,
   "metadata": {},
   "outputs": [],
   "source": [
    "# Swarm plot for ethnicity & education\n",
    "plt.figure(figsize=(14,6))\n",
    "sns.swarmplot(data = combined_df,\n",
    "             x = combined_df.ethnicity_df3,\n",
    "             y = combined_df.high_school_education_df4)\n",
    "plt.xlabel(\"Ethnicity\")\n",
    "plt.ylabel(\"% of people in zipcode who completed high school\")\n",
    "plt.xticks(rotation=90)\n",
    "plt.show()"
   ]
  },
  {
   "cell_type": "code",
   "execution_count": null,
   "metadata": {},
   "outputs": [],
   "source": [
    "# Scatter plot for education & income\n",
    "sns.scatterplot(data = combined_df,\n",
    "                vars=[]\n",
    "                \n",
    "                x = combined_df.high_school_education_df4,\n",
    "                y = combined_df.median_income_df4)\n",
    "sns.pairplot(dataset_copy, vars=['Pregnancies', 'Glucose', 'BloodPressure', 'SkinThickness'], hue = \"Outcome\", markers=[\"o\", \"s\"])\n",
    "\n",
    "plt.xlabel(\"% of people in zipcode who completed high school\")\n",
    "plt.ylabel(\"Median income in that zipcode\")\n",
    "plt.xticks(rotation=90)\n",
    "plt.show()"
   ]
  },
  {
   "cell_type": "code",
   "execution_count": null,
   "metadata": {},
   "outputs": [],
   "source": [
    "# Bar plot for race\n",
    "\n",
    "combined_df.race_df3.value_counts().plot(kind = 'barh')\n"
   ]
  },
  {
   "cell_type": "code",
   "execution_count": null,
   "metadata": {},
   "outputs": [],
   "source": [
    "# Bar plot for ethnicity\n",
    "\n",
    "combined_df.ethnicity_df3.value_counts().plot(kind = 'barh')\n"
   ]
  }
 ],
 "metadata": {
  "celltoolbar": "Tags",
  "kernelspec": {
   "display_name": "Python 3",
   "language": "python",
   "name": "python3"
  },
  "language_info": {
   "codemirror_mode": {
    "name": "ipython",
    "version": 3
   },
   "file_extension": ".py",
   "mimetype": "text/x-python",
   "name": "python",
   "nbconvert_exporter": "python",
   "pygments_lexer": "ipython3",
   "version": "3.7.12"
  },
  "toc": {
   "base_numbering": 1,
   "nav_menu": {},
   "number_sections": true,
   "sideBar": true,
   "skip_h1_title": false,
   "title_cell": "Table of Contents",
   "title_sidebar": "Contents",
   "toc_cell": false,
   "toc_position": {},
   "toc_section_display": true,
   "toc_window_display": false
  }
 },
 "nbformat": 4,
 "nbformat_minor": 2
}
