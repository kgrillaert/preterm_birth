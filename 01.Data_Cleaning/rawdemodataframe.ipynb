{
 "cells": [
  {
   "cell_type": "code",
   "execution_count": 17,
   "metadata": {},
   "outputs": [],
   "source": [
    "import pandas as pd\n",
    "\n",
    "df = pd.DataFrame({'person_id': [3616969], 'gender_person': ['Female'], 'date_of_birth_person': ['1982-06-16 00:00:00+00:00'], 'race_person': ['White'], \n",
    "                  'ethnicity_person': ['Hispanic or Latino'], 'sex_at_birth_person': ['Female'], 'observation_datetime_zip': ['2020-02-14 18:47:27+00:00'], \n",
    "                   'zip_code_zip': ['441**'], 'assisted_income_zip': [38.279736], 'high_school_education_zip': [70.896923], 'median_income_zip': [39407.415829], \n",
    "                   'no_health_insurance_zip': [11.049983], 'poverty_zip': [29.653439], 'vacant_housing_zip': [5.505385], 'deprivation_index_zip': [0.485979], \n",
    "                   'american_community_survey_year_zip': [2017], 'condition_start_date': ['2021-08-11'], 'birth_class': ['Term'], 'gestational_age_at_birth': [28.0], \n",
    "                   'birth_order': [1], 'birth_class_binary': [0] })\n"
   ]
  },
  {
   "cell_type": "code",
   "execution_count": 18,
   "metadata": {},
   "outputs": [
    {
     "name": "stderr",
     "output_type": "stream",
     "text": [
      "/opt/conda/lib/python3.7/site-packages/pandas/core/generic.py:5516: SettingWithCopyWarning: \n",
      "A value is trying to be set on a copy of a slice from a DataFrame.\n",
      "Try using .loc[row_indexer,col_indexer] = value instead\n",
      "\n",
      "See the caveats in the documentation: https://pandas.pydata.org/pandas-docs/stable/user_guide/indexing.html#returning-a-view-versus-a-copy\n",
      "  self[name] = value\n"
     ]
    }
   ],
   "source": [
    "for z in range(20):    \n",
    "    y = df.iloc[[-1], :]\n",
    "    y.index = y.index + 1\n",
    "    y.person_id = y.person_id + 1\n",
    "    #y.condition_start_date = \n",
    "    #y.gestational_age =\n",
    "   \n",
    "    df = pd.concat([df,y]).sort_index()\n",
    "    \n",
    "\n",
    "#for z in range(20):\n",
    "#    if z % 4 == 0:\n",
    "#        df.iloc[[z]].race_person = 'Black'\n",
    "#    elif z % 3 == 0:\n",
    "#        df.iloc[[z]].race_person = 'Asian'\n",
    "#    elif z % 2 == 0:\n",
    "#        df.iloc[[z]].ethnicity_person = 'Not Hispanic or Latino'\n",
    "#    elif z % 5 == 0:\n",
    "#        df.iloc[[z]].zip_code_zip = '701**'\n",
    "#        df.iloc[[z]].assisted_income_zip = '25.2'\n",
    "#        df.iloc[[z]].median_income_zip = '25000.1'\n",
    "#        df.iloc[[z]].high_school_education_zip = '54'\n",
    "#        df.iloc[[z]].no_health_insurance_zip = '14.2'\n",
    "#        df.iloc[[z]].poverty_zip = '29.61'\n",
    "#        df.iloc[[z]].vacant_housing_zip = '7.78'\n",
    "#       df.iloc[[z]].deprivation_index_zip = '0.56'"
   ]
  },
  {
   "cell_type": "code",
   "execution_count": 19,
   "metadata": {},
   "outputs": [
    {
     "data": {
      "text/html": [
       "<div>\n",
       "<style scoped>\n",
       "    .dataframe tbody tr th:only-of-type {\n",
       "        vertical-align: middle;\n",
       "    }\n",
       "\n",
       "    .dataframe tbody tr th {\n",
       "        vertical-align: top;\n",
       "    }\n",
       "\n",
       "    .dataframe thead th {\n",
       "        text-align: right;\n",
       "    }\n",
       "</style>\n",
       "<table border=\"1\" class=\"dataframe\">\n",
       "  <thead>\n",
       "    <tr style=\"text-align: right;\">\n",
       "      <th></th>\n",
       "      <th>person_id</th>\n",
       "      <th>gender_person</th>\n",
       "      <th>date_of_birth_person</th>\n",
       "      <th>race_person</th>\n",
       "      <th>ethnicity_person</th>\n",
       "      <th>sex_at_birth_person</th>\n",
       "      <th>observation_datetime_zip</th>\n",
       "      <th>zip_code_zip</th>\n",
       "      <th>assisted_income_zip</th>\n",
       "      <th>high_school_education_zip</th>\n",
       "      <th>...</th>\n",
       "      <th>no_health_insurance_zip</th>\n",
       "      <th>poverty_zip</th>\n",
       "      <th>vacant_housing_zip</th>\n",
       "      <th>deprivation_index_zip</th>\n",
       "      <th>american_community_survey_year_zip</th>\n",
       "      <th>condition_start_date</th>\n",
       "      <th>birth_class</th>\n",
       "      <th>gestational_age_at_birth</th>\n",
       "      <th>birth_order</th>\n",
       "      <th>birth_class_binary</th>\n",
       "    </tr>\n",
       "  </thead>\n",
       "  <tbody>\n",
       "    <tr>\n",
       "      <th>2</th>\n",
       "      <td>3616971</td>\n",
       "      <td>Female</td>\n",
       "      <td>1982-06-16 00:00:00+00:00</td>\n",
       "      <td>White</td>\n",
       "      <td>Hispanic or Latino</td>\n",
       "      <td>Female</td>\n",
       "      <td>2020-02-14 18:47:27+00:00</td>\n",
       "      <td>441**</td>\n",
       "      <td>38.279736</td>\n",
       "      <td>70.896923</td>\n",
       "      <td>...</td>\n",
       "      <td>11.049983</td>\n",
       "      <td>29.653439</td>\n",
       "      <td>5.505385</td>\n",
       "      <td>0.485979</td>\n",
       "      <td>2017</td>\n",
       "      <td>2021-08-11</td>\n",
       "      <td>Term</td>\n",
       "      <td>28.0</td>\n",
       "      <td>1</td>\n",
       "      <td>0</td>\n",
       "    </tr>\n",
       "  </tbody>\n",
       "</table>\n",
       "<p>1 rows × 21 columns</p>\n",
       "</div>"
      ],
      "text/plain": [
       "   person_id gender_person       date_of_birth_person race_person  \\\n",
       "2    3616971        Female  1982-06-16 00:00:00+00:00       White   \n",
       "\n",
       "     ethnicity_person sex_at_birth_person   observation_datetime_zip  \\\n",
       "2  Hispanic or Latino              Female  2020-02-14 18:47:27+00:00   \n",
       "\n",
       "  zip_code_zip  assisted_income_zip  high_school_education_zip  ...  \\\n",
       "2        441**            38.279736                  70.896923  ...   \n",
       "\n",
       "   no_health_insurance_zip  poverty_zip  vacant_housing_zip  \\\n",
       "2                11.049983    29.653439            5.505385   \n",
       "\n",
       "   deprivation_index_zip  american_community_survey_year_zip  \\\n",
       "2               0.485979                                2017   \n",
       "\n",
       "   condition_start_date birth_class gestational_age_at_birth  birth_order  \\\n",
       "2            2021-08-11        Term                     28.0            1   \n",
       "\n",
       "   birth_class_binary  \n",
       "2                   0  \n",
       "\n",
       "[1 rows x 21 columns]"
      ]
     },
     "execution_count": 19,
     "metadata": {},
     "output_type": "execute_result"
    }
   ],
   "source": [
    "df.iloc[[2]]"
   ]
  },
  {
   "cell_type": "code",
   "execution_count": null,
   "metadata": {},
   "outputs": [],
   "source": []
  }
 ],
 "metadata": {
  "kernelspec": {
   "display_name": "Python 3",
   "language": "python",
   "name": "python3"
  },
  "language_info": {
   "codemirror_mode": {
    "name": "ipython",
    "version": 3
   },
   "file_extension": ".py",
   "mimetype": "text/x-python",
   "name": "python",
   "nbconvert_exporter": "python",
   "pygments_lexer": "ipython3",
   "version": "3.7.12"
  },
  "toc": {
   "base_numbering": 1,
   "nav_menu": {},
   "number_sections": true,
   "sideBar": true,
   "skip_h1_title": false,
   "title_cell": "Table of Contents",
   "title_sidebar": "Contents",
   "toc_cell": false,
   "toc_position": {},
   "toc_section_display": true,
   "toc_window_display": false
  }
 },
 "nbformat": 4,
 "nbformat_minor": 2
}
